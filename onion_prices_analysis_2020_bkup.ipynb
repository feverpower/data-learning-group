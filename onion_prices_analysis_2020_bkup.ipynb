{
  "nbformat": 4,
  "nbformat_minor": 0,
  "metadata": {
    "colab": {
      "name": "onion_prices_analysis_2020.ipynb",
      "provenance": [],
      "collapsed_sections": [],
      "include_colab_link": true
    },
    "kernelspec": {
      "name": "python3",
      "display_name": "Python 3"
    }
  },
  "cells": [
    {
      "cell_type": "markdown",
      "metadata": {
        "id": "view-in-github",
        "colab_type": "text"
      },
      "source": [
        "<a href=\"https://colab.research.google.com/github/feverpower/data-learning-group/blob/main/onion_prices_analysis_2020_bkup.ipynb\" target=\"_parent\"><img src=\"https://colab.research.google.com/assets/colab-badge.svg\" alt=\"Open In Colab\"/></a>"
      ]
    },
    {
      "cell_type": "markdown",
      "metadata": {
        "id": "37puETfgRzzg"
      },
      "source": [
        "# Data Preprocessing Tools"
      ]
    },
    {
      "cell_type": "markdown",
      "metadata": {
        "id": "EoRP98MpR-qj"
      },
      "source": [
        "## Importing the libraries"
      ]
    },
    {
      "cell_type": "code",
      "metadata": {
        "id": "N-qiINBQSK2g"
      },
      "source": [
        "import numpy as np\n",
        "import matplotlib.pyplot as plt\n",
        "import pandas as pd"
      ],
      "execution_count": 1,
      "outputs": []
    },
    {
      "cell_type": "markdown",
      "metadata": {
        "id": "RopL7tUZSQkT"
      },
      "source": [
        "## Importing the dataset"
      ]
    },
    {
      "cell_type": "code",
      "metadata": {
        "id": "aDAjMq_24aRB"
      },
      "source": [
        "dataset = pd.read_csv('Onion Prices 2020.csv')"
      ],
      "execution_count": 2,
      "outputs": []
    },
    {
      "cell_type": "markdown",
      "metadata": {
        "id": "23PJjX5foAUs"
      },
      "source": [
        "##Exploration of data\n",
        "\n",
        "* View sample data (Head)\n",
        "* View sample data (Tail)\n",
        "* Get size\n",
        "* View data types\n",
        "* Get unique values\n",
        "* Find any single value columns (individually or part of a value)\n",
        " * Individually\n",
        " * Part of value (date, example)\n",
        "* Find all null value columns (??)\n"
      ]
    },
    {
      "cell_type": "code",
      "metadata": {
        "id": "o0Jvk0Kiokdm",
        "colab": {
          "base_uri": "https://localhost:8080/",
          "height": 189
        },
        "outputId": "876d592a-adac-43a3-ecf8-03da93c9af89"
      },
      "source": [
        "dataset.head()"
      ],
      "execution_count": 3,
      "outputs": [
        {
          "output_type": "execute_result",
          "data": {
            "text/html": [
              "<div>\n",
              "<style scoped>\n",
              "    .dataframe tbody tr th:only-of-type {\n",
              "        vertical-align: middle;\n",
              "    }\n",
              "\n",
              "    .dataframe tbody tr th {\n",
              "        vertical-align: top;\n",
              "    }\n",
              "\n",
              "    .dataframe thead th {\n",
              "        text-align: right;\n",
              "    }\n",
              "</style>\n",
              "<table border=\"1\" class=\"dataframe\">\n",
              "  <thead>\n",
              "    <tr style=\"text-align: right;\">\n",
              "      <th></th>\n",
              "      <th>state</th>\n",
              "      <th>district</th>\n",
              "      <th>market</th>\n",
              "      <th>commodity</th>\n",
              "      <th>variety</th>\n",
              "      <th>arrival_date</th>\n",
              "      <th>min_price</th>\n",
              "      <th>max_price</th>\n",
              "      <th>modal_price</th>\n",
              "    </tr>\n",
              "  </thead>\n",
              "  <tbody>\n",
              "    <tr>\n",
              "      <th>0</th>\n",
              "      <td>Andhra Pradesh</td>\n",
              "      <td>Kurnool</td>\n",
              "      <td>Kurnool</td>\n",
              "      <td>Onion</td>\n",
              "      <td>Local</td>\n",
              "      <td>03/01/2020</td>\n",
              "      <td>1350</td>\n",
              "      <td>4390</td>\n",
              "      <td>3100.0</td>\n",
              "    </tr>\n",
              "    <tr>\n",
              "      <th>1</th>\n",
              "      <td>Andhra Pradesh</td>\n",
              "      <td>Kurnool</td>\n",
              "      <td>Kurnool</td>\n",
              "      <td>Onion</td>\n",
              "      <td>Local</td>\n",
              "      <td>04/01/2020</td>\n",
              "      <td>1390</td>\n",
              "      <td>4400</td>\n",
              "      <td>3200.0</td>\n",
              "    </tr>\n",
              "    <tr>\n",
              "      <th>2</th>\n",
              "      <td>Andhra Pradesh</td>\n",
              "      <td>Kurnool</td>\n",
              "      <td>Kurnool</td>\n",
              "      <td>Onion</td>\n",
              "      <td>Local</td>\n",
              "      <td>06/01/2020</td>\n",
              "      <td>1460</td>\n",
              "      <td>5150</td>\n",
              "      <td>4310.0</td>\n",
              "    </tr>\n",
              "    <tr>\n",
              "      <th>3</th>\n",
              "      <td>Andhra Pradesh</td>\n",
              "      <td>Kurnool</td>\n",
              "      <td>Kurnool</td>\n",
              "      <td>Onion</td>\n",
              "      <td>Local</td>\n",
              "      <td>07/01/2020</td>\n",
              "      <td>2010</td>\n",
              "      <td>5200</td>\n",
              "      <td>4200.0</td>\n",
              "    </tr>\n",
              "    <tr>\n",
              "      <th>4</th>\n",
              "      <td>Andhra Pradesh</td>\n",
              "      <td>Kurnool</td>\n",
              "      <td>Kurnool</td>\n",
              "      <td>Onion</td>\n",
              "      <td>Local</td>\n",
              "      <td>10/01/2020</td>\n",
              "      <td>1320</td>\n",
              "      <td>4050</td>\n",
              "      <td>3300.0</td>\n",
              "    </tr>\n",
              "  </tbody>\n",
              "</table>\n",
              "</div>"
            ],
            "text/plain": [
              "            state district   market  ... min_price max_price modal_price\n",
              "0  Andhra Pradesh  Kurnool  Kurnool  ...      1350      4390      3100.0\n",
              "1  Andhra Pradesh  Kurnool  Kurnool  ...      1390      4400      3200.0\n",
              "2  Andhra Pradesh  Kurnool  Kurnool  ...      1460      5150      4310.0\n",
              "3  Andhra Pradesh  Kurnool  Kurnool  ...      2010      5200      4200.0\n",
              "4  Andhra Pradesh  Kurnool  Kurnool  ...      1320      4050      3300.0\n",
              "\n",
              "[5 rows x 9 columns]"
            ]
          },
          "metadata": {
            "tags": []
          },
          "execution_count": 3
        }
      ]
    },
    {
      "cell_type": "code",
      "metadata": {
        "id": "yOER1lYUolrg",
        "colab": {
          "base_uri": "https://localhost:8080/",
          "height": 189
        },
        "outputId": "0d331822-ba0a-4edd-ffae-b62ecb88552f"
      },
      "source": [
        "dataset.tail()"
      ],
      "execution_count": 4,
      "outputs": [
        {
          "output_type": "execute_result",
          "data": {
            "text/html": [
              "<div>\n",
              "<style scoped>\n",
              "    .dataframe tbody tr th:only-of-type {\n",
              "        vertical-align: middle;\n",
              "    }\n",
              "\n",
              "    .dataframe tbody tr th {\n",
              "        vertical-align: top;\n",
              "    }\n",
              "\n",
              "    .dataframe thead th {\n",
              "        text-align: right;\n",
              "    }\n",
              "</style>\n",
              "<table border=\"1\" class=\"dataframe\">\n",
              "  <thead>\n",
              "    <tr style=\"text-align: right;\">\n",
              "      <th></th>\n",
              "      <th>state</th>\n",
              "      <th>district</th>\n",
              "      <th>market</th>\n",
              "      <th>commodity</th>\n",
              "      <th>variety</th>\n",
              "      <th>arrival_date</th>\n",
              "      <th>min_price</th>\n",
              "      <th>max_price</th>\n",
              "      <th>modal_price</th>\n",
              "    </tr>\n",
              "  </thead>\n",
              "  <tbody>\n",
              "    <tr>\n",
              "      <th>107290</th>\n",
              "      <td>West Bengal</td>\n",
              "      <td>Sounth 24 Parganas</td>\n",
              "      <td>Diamond Harbour(South 24-pgs)</td>\n",
              "      <td>Onion</td>\n",
              "      <td>Red</td>\n",
              "      <td>03/09/2020</td>\n",
              "      <td>2200</td>\n",
              "      <td>2300</td>\n",
              "      <td>2250.0</td>\n",
              "    </tr>\n",
              "    <tr>\n",
              "      <th>107291</th>\n",
              "      <td>West Bengal</td>\n",
              "      <td>Sounth 24 Parganas</td>\n",
              "      <td>Diamond Harbour(South 24-pgs)</td>\n",
              "      <td>Onion</td>\n",
              "      <td>Red</td>\n",
              "      <td>04/09/2020</td>\n",
              "      <td>2050</td>\n",
              "      <td>2600</td>\n",
              "      <td>2200.0</td>\n",
              "    </tr>\n",
              "    <tr>\n",
              "      <th>107292</th>\n",
              "      <td>West Bengal</td>\n",
              "      <td>Sounth 24 Parganas</td>\n",
              "      <td>Diamond Harbour(South 24-pgs)</td>\n",
              "      <td>Onion</td>\n",
              "      <td>Red</td>\n",
              "      <td>08/09/2020</td>\n",
              "      <td>2700</td>\n",
              "      <td>2875</td>\n",
              "      <td>2800.0</td>\n",
              "    </tr>\n",
              "    <tr>\n",
              "      <th>107293</th>\n",
              "      <td>West Bengal</td>\n",
              "      <td>Sounth 24 Parganas</td>\n",
              "      <td>Diamond Harbour(South 24-pgs)</td>\n",
              "      <td>Onion</td>\n",
              "      <td>Red</td>\n",
              "      <td>09/09/2020</td>\n",
              "      <td>2625</td>\n",
              "      <td>2875</td>\n",
              "      <td>2800.0</td>\n",
              "    </tr>\n",
              "    <tr>\n",
              "      <th>107294</th>\n",
              "      <td>West Bengal</td>\n",
              "      <td>Sounth 24 Parganas</td>\n",
              "      <td>Diamond Harbour(South 24-pgs)</td>\n",
              "      <td>Onion</td>\n",
              "      <td>Red</td>\n",
              "      <td>10/09/2020</td>\n",
              "      <td>2800</td>\n",
              "      <td>2890</td>\n",
              "      <td>2870.0</td>\n",
              "    </tr>\n",
              "  </tbody>\n",
              "</table>\n",
              "</div>"
            ],
            "text/plain": [
              "              state            district  ... max_price modal_price\n",
              "107290  West Bengal  Sounth 24 Parganas  ...      2300      2250.0\n",
              "107291  West Bengal  Sounth 24 Parganas  ...      2600      2200.0\n",
              "107292  West Bengal  Sounth 24 Parganas  ...      2875      2800.0\n",
              "107293  West Bengal  Sounth 24 Parganas  ...      2875      2800.0\n",
              "107294  West Bengal  Sounth 24 Parganas  ...      2890      2870.0\n",
              "\n",
              "[5 rows x 9 columns]"
            ]
          },
          "metadata": {
            "tags": []
          },
          "execution_count": 4
        }
      ]
    },
    {
      "cell_type": "code",
      "metadata": {
        "id": "Mduub15Xmxl6",
        "colab": {
          "base_uri": "https://localhost:8080/"
        },
        "outputId": "be52735c-f3c8-4ebd-bfcd-6e6f752a5b69"
      },
      "source": [
        "dataset.shape"
      ],
      "execution_count": 5,
      "outputs": [
        {
          "output_type": "execute_result",
          "data": {
            "text/plain": [
              "(107295, 9)"
            ]
          },
          "metadata": {
            "tags": []
          },
          "execution_count": 5
        }
      ]
    },
    {
      "cell_type": "code",
      "metadata": {
        "id": "8vPaSaV9rC3g",
        "colab": {
          "base_uri": "https://localhost:8080/"
        },
        "outputId": "3c7ff353-b995-4b9d-ad69-6207a487986e"
      },
      "source": [
        "dataset.dtypes"
      ],
      "execution_count": 6,
      "outputs": [
        {
          "output_type": "execute_result",
          "data": {
            "text/plain": [
              "state            object\n",
              "district         object\n",
              "market           object\n",
              "commodity        object\n",
              "variety          object\n",
              "arrival_date     object\n",
              "min_price         int64\n",
              "max_price         int64\n",
              "modal_price     float64\n",
              "dtype: object"
            ]
          },
          "metadata": {
            "tags": []
          },
          "execution_count": 6
        }
      ]
    },
    {
      "cell_type": "code",
      "metadata": {
        "id": "wcgbGtrT8E41"
      },
      "source": [
        "# These steps can be looped for each column in the dataset"
      ],
      "execution_count": 7,
      "outputs": []
    },
    {
      "cell_type": "code",
      "metadata": {
        "id": "ncKNmjDHpSG7"
      },
      "source": [
        "# Get unique values in specified column\n",
        "#dataset['column-name'].unique()"
      ],
      "execution_count": 8,
      "outputs": []
    },
    {
      "cell_type": "code",
      "metadata": {
        "id": "06GEGl-y7lB5"
      },
      "source": [
        "# Get value and its count in specified column\n",
        "#dataset['column-name'].value_counts()"
      ],
      "execution_count": 9,
      "outputs": []
    },
    {
      "cell_type": "code",
      "metadata": {
        "id": "G0b6ey8Cuxn5",
        "colab": {
          "base_uri": "https://localhost:8080/"
        },
        "outputId": "b358eec0-0d86-474c-acfa-91321446eb0b"
      },
      "source": [
        "dataset['state'].value_counts()"
      ],
      "execution_count": 10,
      "outputs": [
        {
          "output_type": "execute_result",
          "data": {
            "text/plain": [
              "Uttar Pradesh        37263\n",
              "Punjab               10783\n",
              "Kerala                8834\n",
              "West Bengal           7235\n",
              "Odisha                6938\n",
              "Haryana               6637\n",
              "Rajasthan             4974\n",
              "Maharashtra           4788\n",
              "Madhya Pradesh        4333\n",
              "Karnataka             3775\n",
              "Gujarat               2940\n",
              "Himachal Pradesh      2486\n",
              "Uttrakhand            1731\n",
              "Tripura               1626\n",
              "Jammu and Kashmir      831\n",
              "Chattisgarh            733\n",
              "Telangana              507\n",
              "NCT of Delhi           371\n",
              "Jharkhand              302\n",
              "Andhra Pradesh         127\n",
              "Goa                     74\n",
              "Nagaland                 7\n",
              "Name: state, dtype: int64"
            ]
          },
          "metadata": {
            "tags": []
          },
          "execution_count": 10
        }
      ]
    },
    {
      "cell_type": "code",
      "metadata": {
        "id": "rgee3NkIvF2N",
        "colab": {
          "base_uri": "https://localhost:8080/"
        },
        "outputId": "000ea57d-7316-477c-a1f1-2ace5dfefbc4"
      },
      "source": [
        "dataset['district'].value_counts()"
      ],
      "execution_count": 11,
      "outputs": [
        {
          "output_type": "execute_result",
          "data": {
            "text/plain": [
              "Kottayam        1671\n",
              "Alappuzha       1563\n",
              "Nashik          1473\n",
              "Bulandshahar    1397\n",
              "Hamirpur        1187\n",
              "                ... \n",
              "Rayagada           2\n",
              "Badwani            2\n",
              "Ratnagiri          2\n",
              "Raisen             1\n",
              "Bidar              1\n",
              "Name: district, Length: 315, dtype: int64"
            ]
          },
          "metadata": {
            "tags": []
          },
          "execution_count": 11
        }
      ]
    },
    {
      "cell_type": "code",
      "metadata": {
        "id": "4VBbpcGpvKHH",
        "colab": {
          "base_uri": "https://localhost:8080/"
        },
        "outputId": "b34ae581-b71d-47fa-fcdc-5e3e1357ac17"
      },
      "source": [
        "dataset['market'].value_counts()"
      ],
      "execution_count": 12,
      "outputs": [
        {
          "output_type": "execute_result",
          "data": {
            "text/plain": [
              "Kayamkulam                        461\n",
              "Hubli (Amaragol)                  416\n",
              "Palakkad                          370\n",
              "Bangalore                         361\n",
              "Chengannur                        346\n",
              "                                 ... \n",
              "New Grain Market(main), Karnal      1\n",
              "Ambala City                         1\n",
              "Jamanian                            1\n",
              "Pandhana(F&V)                       1\n",
              "Raisen                              1\n",
              "Name: market, Length: 905, dtype: int64"
            ]
          },
          "metadata": {
            "tags": []
          },
          "execution_count": 12
        }
      ]
    },
    {
      "cell_type": "code",
      "metadata": {
        "id": "kVA4oVDAvOeX",
        "colab": {
          "base_uri": "https://localhost:8080/"
        },
        "outputId": "e1683aeb-5023-448f-feaf-130ecb1a3522"
      },
      "source": [
        "dataset['commodity'].value_counts()"
      ],
      "execution_count": 13,
      "outputs": [
        {
          "output_type": "execute_result",
          "data": {
            "text/plain": [
              "Onion    107295\n",
              "Name: commodity, dtype: int64"
            ]
          },
          "metadata": {
            "tags": []
          },
          "execution_count": 13
        }
      ]
    },
    {
      "cell_type": "code",
      "metadata": {
        "id": "Px8K5Lg_vQsl",
        "colab": {
          "base_uri": "https://localhost:8080/"
        },
        "outputId": "0eecb30b-ba65-46d3-ca42-74d5c86985b9"
      },
      "source": [
        "dataset['variety'].value_counts()"
      ],
      "execution_count": 14,
      "outputs": [
        {
          "output_type": "execute_result",
          "data": {
            "text/plain": [
              "Other               38316\n",
              "Red                 36455\n",
              "Onion               14712\n",
              "Local                3663\n",
              "1st Sort             3490\n",
              "Nasik                3449\n",
              "Big                  2989\n",
              "Small                1658\n",
              "White                 490\n",
              "Pusa-Red              436\n",
              "Puna                  348\n",
              "Medium                343\n",
              "Bombay (U.P.)         224\n",
              "Dry F.A.Q.            191\n",
              "Beelary-Red           149\n",
              "Pole                  126\n",
              "Telagi                115\n",
              "2nd Sort               76\n",
              "Hybrid                 63\n",
              "Bangalore-Samall        1\n",
              "Bellary                 1\n",
              "Name: variety, dtype: int64"
            ]
          },
          "metadata": {
            "tags": []
          },
          "execution_count": 14
        }
      ]
    },
    {
      "cell_type": "code",
      "metadata": {
        "id": "lZbw4gy1vSwb",
        "colab": {
          "base_uri": "https://localhost:8080/"
        },
        "outputId": "1ee59adf-1266-4698-d527-868b6f030cca"
      },
      "source": [
        "dataset['arrival_date'].value_counts()"
      ],
      "execution_count": 15,
      "outputs": [
        {
          "output_type": "execute_result",
          "data": {
            "text/plain": [
              "16/03/2020    554\n",
              "18/03/2020    550\n",
              "11/02/2020    546\n",
              "17/03/2020    541\n",
              "19/03/2020    538\n",
              "             ... \n",
              "02/08/2020    187\n",
              "29/03/2020    182\n",
              "25/03/2020    181\n",
              "01/08/2020    180\n",
              "22/03/2020     67\n",
              "Name: arrival_date, Length: 260, dtype: int64"
            ]
          },
          "metadata": {
            "tags": []
          },
          "execution_count": 15
        }
      ]
    },
    {
      "cell_type": "code",
      "metadata": {
        "id": "KrkyU72Ns4ji",
        "colab": {
          "base_uri": "https://localhost:8080/",
          "height": 46
        },
        "outputId": "f39fae20-37b5-4897-e8a0-0f84d14dae37"
      },
      "source": [
        "dataset[dataset.isnull().any(axis=1)]"
      ],
      "execution_count": 16,
      "outputs": [
        {
          "output_type": "execute_result",
          "data": {
            "text/html": [
              "<div>\n",
              "<style scoped>\n",
              "    .dataframe tbody tr th:only-of-type {\n",
              "        vertical-align: middle;\n",
              "    }\n",
              "\n",
              "    .dataframe tbody tr th {\n",
              "        vertical-align: top;\n",
              "    }\n",
              "\n",
              "    .dataframe thead th {\n",
              "        text-align: right;\n",
              "    }\n",
              "</style>\n",
              "<table border=\"1\" class=\"dataframe\">\n",
              "  <thead>\n",
              "    <tr style=\"text-align: right;\">\n",
              "      <th></th>\n",
              "      <th>state</th>\n",
              "      <th>district</th>\n",
              "      <th>market</th>\n",
              "      <th>commodity</th>\n",
              "      <th>variety</th>\n",
              "      <th>arrival_date</th>\n",
              "      <th>min_price</th>\n",
              "      <th>max_price</th>\n",
              "      <th>modal_price</th>\n",
              "    </tr>\n",
              "  </thead>\n",
              "  <tbody>\n",
              "  </tbody>\n",
              "</table>\n",
              "</div>"
            ],
            "text/plain": [
              "Empty DataFrame\n",
              "Columns: [state, district, market, commodity, variety, arrival_date, min_price, max_price, modal_price]\n",
              "Index: []"
            ]
          },
          "metadata": {
            "tags": []
          },
          "execution_count": 16
        }
      ]
    },
    {
      "cell_type": "code",
      "metadata": {
        "id": "BMdPA-Sj8krh",
        "colab": {
          "base_uri": "https://localhost:8080/",
          "height": 46
        },
        "outputId": "79e610e2-7b8b-49b2-9d3d-59cc0ec04cb6"
      },
      "source": [
        "dataset[dataset.isna().any(axis=1)]"
      ],
      "execution_count": 17,
      "outputs": [
        {
          "output_type": "execute_result",
          "data": {
            "text/html": [
              "<div>\n",
              "<style scoped>\n",
              "    .dataframe tbody tr th:only-of-type {\n",
              "        vertical-align: middle;\n",
              "    }\n",
              "\n",
              "    .dataframe tbody tr th {\n",
              "        vertical-align: top;\n",
              "    }\n",
              "\n",
              "    .dataframe thead th {\n",
              "        text-align: right;\n",
              "    }\n",
              "</style>\n",
              "<table border=\"1\" class=\"dataframe\">\n",
              "  <thead>\n",
              "    <tr style=\"text-align: right;\">\n",
              "      <th></th>\n",
              "      <th>state</th>\n",
              "      <th>district</th>\n",
              "      <th>market</th>\n",
              "      <th>commodity</th>\n",
              "      <th>variety</th>\n",
              "      <th>arrival_date</th>\n",
              "      <th>min_price</th>\n",
              "      <th>max_price</th>\n",
              "      <th>modal_price</th>\n",
              "    </tr>\n",
              "  </thead>\n",
              "  <tbody>\n",
              "  </tbody>\n",
              "</table>\n",
              "</div>"
            ],
            "text/plain": [
              "Empty DataFrame\n",
              "Columns: [state, district, market, commodity, variety, arrival_date, min_price, max_price, modal_price]\n",
              "Index: []"
            ]
          },
          "metadata": {
            "tags": []
          },
          "execution_count": 17
        }
      ]
    },
    {
      "cell_type": "markdown",
      "metadata": {
        "id": "O7yq3xTb_MFF"
      },
      "source": [
        "## Add/Remove Variables"
      ]
    },
    {
      "cell_type": "code",
      "metadata": {
        "colab": {
          "base_uri": "https://localhost:8080/"
        },
        "id": "s-J0QfBHCfod",
        "outputId": "beff1374-7cb2-44e1-bba8-086b8c4accb6"
      },
      "source": [
        "dataset['commodity'].value_counts()"
      ],
      "execution_count": 18,
      "outputs": [
        {
          "output_type": "execute_result",
          "data": {
            "text/plain": [
              "Onion    107295\n",
              "Name: commodity, dtype: int64"
            ]
          },
          "metadata": {
            "tags": []
          },
          "execution_count": 18
        }
      ]
    },
    {
      "cell_type": "code",
      "metadata": {
        "id": "awhB7dMB8lXb"
      },
      "source": [
        "#dataset = dataset.drop('commodity', 1)\n",
        "dataset.drop('commodity', axis=1, inplace=True)"
      ],
      "execution_count": 19,
      "outputs": []
    },
    {
      "cell_type": "code",
      "metadata": {
        "id": "37C7mioOCkZs",
        "colab": {
          "base_uri": "https://localhost:8080/"
        },
        "outputId": "317233c3-78ac-4edd-c473-ce0b16114555"
      },
      "source": [
        "pd.to_datetime(dataset['arrival_date']).dt.year.value_counts()"
      ],
      "execution_count": 20,
      "outputs": [
        {
          "output_type": "execute_result",
          "data": {
            "text/plain": [
              "2020    107295\n",
              "Name: arrival_date, dtype: int64"
            ]
          },
          "metadata": {
            "tags": []
          },
          "execution_count": 20
        }
      ]
    },
    {
      "cell_type": "code",
      "metadata": {
        "id": "D4crF0WI3sMm"
      },
      "source": [
        "#dataset['arrival_date'] = pd.to_datetime(dataset['arrival_date'])\n",
        "dataset.insert(0, column='arrival_month', value=pd.to_datetime(dataset['arrival_date']).dt.month)\n",
        "dataset.drop('arrival_date', axis=1, inplace=True)"
      ],
      "execution_count": 21,
      "outputs": []
    },
    {
      "cell_type": "code",
      "metadata": {
        "colab": {
          "base_uri": "https://localhost:8080/",
          "height": 189
        },
        "id": "2ePRf7Cs4BEw",
        "outputId": "96e13310-49b1-4f94-de63-54441d815ddd"
      },
      "source": [
        "dataset.head()"
      ],
      "execution_count": 22,
      "outputs": [
        {
          "output_type": "execute_result",
          "data": {
            "text/html": [
              "<div>\n",
              "<style scoped>\n",
              "    .dataframe tbody tr th:only-of-type {\n",
              "        vertical-align: middle;\n",
              "    }\n",
              "\n",
              "    .dataframe tbody tr th {\n",
              "        vertical-align: top;\n",
              "    }\n",
              "\n",
              "    .dataframe thead th {\n",
              "        text-align: right;\n",
              "    }\n",
              "</style>\n",
              "<table border=\"1\" class=\"dataframe\">\n",
              "  <thead>\n",
              "    <tr style=\"text-align: right;\">\n",
              "      <th></th>\n",
              "      <th>arrival_month</th>\n",
              "      <th>state</th>\n",
              "      <th>district</th>\n",
              "      <th>market</th>\n",
              "      <th>variety</th>\n",
              "      <th>min_price</th>\n",
              "      <th>max_price</th>\n",
              "      <th>modal_price</th>\n",
              "    </tr>\n",
              "  </thead>\n",
              "  <tbody>\n",
              "    <tr>\n",
              "      <th>0</th>\n",
              "      <td>3</td>\n",
              "      <td>Andhra Pradesh</td>\n",
              "      <td>Kurnool</td>\n",
              "      <td>Kurnool</td>\n",
              "      <td>Local</td>\n",
              "      <td>1350</td>\n",
              "      <td>4390</td>\n",
              "      <td>3100.0</td>\n",
              "    </tr>\n",
              "    <tr>\n",
              "      <th>1</th>\n",
              "      <td>4</td>\n",
              "      <td>Andhra Pradesh</td>\n",
              "      <td>Kurnool</td>\n",
              "      <td>Kurnool</td>\n",
              "      <td>Local</td>\n",
              "      <td>1390</td>\n",
              "      <td>4400</td>\n",
              "      <td>3200.0</td>\n",
              "    </tr>\n",
              "    <tr>\n",
              "      <th>2</th>\n",
              "      <td>6</td>\n",
              "      <td>Andhra Pradesh</td>\n",
              "      <td>Kurnool</td>\n",
              "      <td>Kurnool</td>\n",
              "      <td>Local</td>\n",
              "      <td>1460</td>\n",
              "      <td>5150</td>\n",
              "      <td>4310.0</td>\n",
              "    </tr>\n",
              "    <tr>\n",
              "      <th>3</th>\n",
              "      <td>7</td>\n",
              "      <td>Andhra Pradesh</td>\n",
              "      <td>Kurnool</td>\n",
              "      <td>Kurnool</td>\n",
              "      <td>Local</td>\n",
              "      <td>2010</td>\n",
              "      <td>5200</td>\n",
              "      <td>4200.0</td>\n",
              "    </tr>\n",
              "    <tr>\n",
              "      <th>4</th>\n",
              "      <td>10</td>\n",
              "      <td>Andhra Pradesh</td>\n",
              "      <td>Kurnool</td>\n",
              "      <td>Kurnool</td>\n",
              "      <td>Local</td>\n",
              "      <td>1320</td>\n",
              "      <td>4050</td>\n",
              "      <td>3300.0</td>\n",
              "    </tr>\n",
              "  </tbody>\n",
              "</table>\n",
              "</div>"
            ],
            "text/plain": [
              "   arrival_month           state district  ... min_price max_price  modal_price\n",
              "0              3  Andhra Pradesh  Kurnool  ...      1350      4390       3100.0\n",
              "1              4  Andhra Pradesh  Kurnool  ...      1390      4400       3200.0\n",
              "2              6  Andhra Pradesh  Kurnool  ...      1460      5150       4310.0\n",
              "3              7  Andhra Pradesh  Kurnool  ...      2010      5200       4200.0\n",
              "4             10  Andhra Pradesh  Kurnool  ...      1320      4050       3300.0\n",
              "\n",
              "[5 rows x 8 columns]"
            ]
          },
          "metadata": {
            "tags": []
          },
          "execution_count": 22
        }
      ]
    },
    {
      "cell_type": "code",
      "metadata": {
        "colab": {
          "base_uri": "https://localhost:8080/"
        },
        "id": "MDuutd-u4aSq",
        "outputId": "f9f365cc-3ad5-444a-8638-67ee7155e5bf"
      },
      "source": [
        "dataset.dtypes"
      ],
      "execution_count": 23,
      "outputs": [
        {
          "output_type": "execute_result",
          "data": {
            "text/plain": [
              "arrival_month      int64\n",
              "state             object\n",
              "district          object\n",
              "market            object\n",
              "variety           object\n",
              "min_price          int64\n",
              "max_price          int64\n",
              "modal_price      float64\n",
              "dtype: object"
            ]
          },
          "metadata": {
            "tags": []
          },
          "execution_count": 23
        }
      ]
    },
    {
      "cell_type": "markdown",
      "metadata": {
        "id": "4wsBNigBvU0M"
      },
      "source": [
        "There are two theories whether to do transformation before or after split. \n",
        "\n",
        "Some say to transformation on the full dataset, but create a fit and transform set to support the live prod set. \n",
        "\n",
        "Other theory is to transform on the training set and apply it on the validation/test set and live prod set. If the transform fail, handle it. "
      ]
    },
    {
      "cell_type": "markdown",
      "metadata": {
        "id": "qb_vcgm3qZKW"
      },
      "source": [
        "## Split the dataset into Training and Validation set"
      ]
    },
    {
      "cell_type": "code",
      "metadata": {
        "id": "tpDN2tNJzNWg"
      },
      "source": [
        "X = dataset.iloc[:, :-1].values\n",
        "y = dataset.iloc[:, -1].values\n",
        "\n",
        "from sklearn.model_selection import train_test_split\n",
        "X_train, X_test, y_train, y_test = train_test_split(X, y, test_size=0.2, random_state=1)"
      ],
      "execution_count": 24,
      "outputs": []
    },
    {
      "cell_type": "code",
      "metadata": {
        "id": "NmxTcWXo_Pbr",
        "colab": {
          "base_uri": "https://localhost:8080/"
        },
        "outputId": "d8613e3c-d760-4dd1-91cd-ad888c1b4246"
      },
      "source": [
        "print(X_train)"
      ],
      "execution_count": 25,
      "outputs": [
        {
          "output_type": "stream",
          "text": [
            "[[4 'Uttar Pradesh' 'Bulandshahar' ... 'Red' 1300 1500]\n",
            " [6 'West Bengal' 'Nadia' ... 'Other' 5200 5400]\n",
            " [8 'West Bengal' 'Nadia' ... 'Other' 1900 2100]\n",
            " ...\n",
            " [5 'Haryana' 'Fatehabad' ... 'Other' 1000 1000]\n",
            " [5 'Uttar Pradesh' 'Ghaziabad' ... 'Red' 700 800]\n",
            " [3 'Uttrakhand' 'Dehradoon' ... 'Other' 2210 3200]]\n"
          ],
          "name": "stdout"
        }
      ]
    },
    {
      "cell_type": "code",
      "metadata": {
        "id": "T2lOdrmI_Piw",
        "colab": {
          "base_uri": "https://localhost:8080/"
        },
        "outputId": "082a0966-61c0-4bb8-f025-63f1609f935f"
      },
      "source": [
        "print(X_test)"
      ],
      "execution_count": 26,
      "outputs": [
        {
          "output_type": "stream",
          "text": [
            "[[5 'Uttar Pradesh' 'Auraiya' ... 'Red' 700 900]\n",
            " [7 'Uttar Pradesh' 'Fatehpur' ... 'Red' 4550 5150]\n",
            " [5 'Rajasthan' 'Alwar' ... 'Other' 700 1100]\n",
            " ...\n",
            " [6 'Uttar Pradesh' 'Hathras' ... 'Red' 920 1120]\n",
            " [10 'Uttar Pradesh' 'Bareilly' ... 'Red' 2000 2100]\n",
            " [4 'Uttar Pradesh' 'Agra' ... 'Red' 3000 3100]]\n"
          ],
          "name": "stdout"
        }
      ]
    },
    {
      "cell_type": "code",
      "metadata": {
        "id": "6Tq2N7UQ_PsK",
        "colab": {
          "base_uri": "https://localhost:8080/"
        },
        "outputId": "8d2c92e9-8c04-4674-b207-88d5d34f63e5"
      },
      "source": [
        "print(y_train)"
      ],
      "execution_count": 27,
      "outputs": [
        {
          "output_type": "stream",
          "text": [
            "[1400. 5300. 2000. ... 1000.  750. 2550.]\n"
          ],
          "name": "stdout"
        }
      ]
    },
    {
      "cell_type": "code",
      "metadata": {
        "id": "WM37chDG_QDh",
        "colab": {
          "base_uri": "https://localhost:8080/"
        },
        "outputId": "21cb99fa-9cd3-47b7-cf94-a9aac975a91d"
      },
      "source": [
        "print(y_test)"
      ],
      "execution_count": 28,
      "outputs": [
        {
          "output_type": "stream",
          "text": [
            "[ 800. 4800.  900. ... 1020. 2050. 3050.]\n"
          ],
          "name": "stdout"
        }
      ]
    },
    {
      "cell_type": "markdown",
      "metadata": {
        "id": "g8FDC16Z_pFL"
      },
      "source": [
        "## Identify and Process missing data"
      ]
    },
    {
      "cell_type": "code",
      "metadata": {
        "id": "oGG0jUCntU0u"
      },
      "source": [
        "#dataset.isnull().any(axis=1)]"
      ],
      "execution_count": 39,
      "outputs": []
    },
    {
      "cell_type": "code",
      "metadata": {
        "id": "7aMsdGw_BSCK"
      },
      "source": [
        "#dataset.isna().any(axis=1)]"
      ],
      "execution_count": 40,
      "outputs": []
    },
    {
      "cell_type": "code",
      "metadata": {
        "id": "u7OunCDSuNZr"
      },
      "source": [
        "#object_variables['column-name'].value_counts()\n",
        "#object_variables = object_variables.fillna({\"column-name\": \"value\"})\n",
        "#or\n",
        "#df_ml = df.dropna(subset=['price'])\n",
        "\n",
        "#from sklearn.impute import SimpleImputer\n",
        "#imputer = SimpleImputer(missing_values=np.nan, strategy='mean')\n",
        "#imputer.fit(X[:, 1:3])\n",
        "#X[:, 1:3] = imputer.transform(X[:, 1:3])"
      ],
      "execution_count": 34,
      "outputs": []
    },
    {
      "cell_type": "code",
      "metadata": {
        "id": "bcCosMSrU9ZS"
      },
      "source": [
        "#trf1 = ColumnTransformer(transformers =[ \n",
        "#    ('cat', SimpleImputer(strategy ='most_frequent'), ['sex', 'smoker', 'region']), \n",
        "#    ('num', SimpleImputer(strategy ='median'), ['age', 'bmi', 'children']), \n",
        "      \n",
        "#], remainder ='passthrough') "
      ],
      "execution_count": 41,
      "outputs": []
    },
    {
      "cell_type": "markdown",
      "metadata": {
        "id": "CriG6VzVSjcK"
      },
      "source": [
        "## Encoding categorical data"
      ]
    },
    {
      "cell_type": "code",
      "metadata": {
        "colab": {
          "base_uri": "https://localhost:8080/",
          "height": 189
        },
        "id": "pK9--N17gJyM",
        "outputId": "1f10f641-b94e-4f91-fe76-4408acaa140f"
      },
      "source": [
        "pd.DataFrame(X_train).head()"
      ],
      "execution_count": 47,
      "outputs": [
        {
          "output_type": "execute_result",
          "data": {
            "text/html": [
              "<div>\n",
              "<style scoped>\n",
              "    .dataframe tbody tr th:only-of-type {\n",
              "        vertical-align: middle;\n",
              "    }\n",
              "\n",
              "    .dataframe tbody tr th {\n",
              "        vertical-align: top;\n",
              "    }\n",
              "\n",
              "    .dataframe thead th {\n",
              "        text-align: right;\n",
              "    }\n",
              "</style>\n",
              "<table border=\"1\" class=\"dataframe\">\n",
              "  <thead>\n",
              "    <tr style=\"text-align: right;\">\n",
              "      <th></th>\n",
              "      <th>0</th>\n",
              "      <th>1</th>\n",
              "      <th>2</th>\n",
              "      <th>3</th>\n",
              "      <th>4</th>\n",
              "      <th>5</th>\n",
              "      <th>6</th>\n",
              "    </tr>\n",
              "  </thead>\n",
              "  <tbody>\n",
              "    <tr>\n",
              "      <th>0</th>\n",
              "      <td>4</td>\n",
              "      <td>Uttar Pradesh</td>\n",
              "      <td>Bulandshahar</td>\n",
              "      <td>Khurja</td>\n",
              "      <td>Red</td>\n",
              "      <td>1300</td>\n",
              "      <td>1500</td>\n",
              "    </tr>\n",
              "    <tr>\n",
              "      <th>1</th>\n",
              "      <td>6</td>\n",
              "      <td>West Bengal</td>\n",
              "      <td>Nadia</td>\n",
              "      <td>Chakdah</td>\n",
              "      <td>Other</td>\n",
              "      <td>5200</td>\n",
              "      <td>5400</td>\n",
              "    </tr>\n",
              "    <tr>\n",
              "      <th>2</th>\n",
              "      <td>8</td>\n",
              "      <td>West Bengal</td>\n",
              "      <td>Nadia</td>\n",
              "      <td>Ranaghat</td>\n",
              "      <td>Other</td>\n",
              "      <td>1900</td>\n",
              "      <td>2100</td>\n",
              "    </tr>\n",
              "    <tr>\n",
              "      <th>3</th>\n",
              "      <td>1</td>\n",
              "      <td>Rajasthan</td>\n",
              "      <td>Jhunjunu</td>\n",
              "      <td>Nawalgarh</td>\n",
              "      <td>1st Sort</td>\n",
              "      <td>2690</td>\n",
              "      <td>2710</td>\n",
              "    </tr>\n",
              "    <tr>\n",
              "      <th>4</th>\n",
              "      <td>6</td>\n",
              "      <td>Haryana</td>\n",
              "      <td>Hissar</td>\n",
              "      <td>Narnaund</td>\n",
              "      <td>Other</td>\n",
              "      <td>1200</td>\n",
              "      <td>1400</td>\n",
              "    </tr>\n",
              "  </tbody>\n",
              "</table>\n",
              "</div>"
            ],
            "text/plain": [
              "   0              1             2          3         4     5     6\n",
              "0  4  Uttar Pradesh  Bulandshahar     Khurja       Red  1300  1500\n",
              "1  6    West Bengal         Nadia    Chakdah     Other  5200  5400\n",
              "2  8    West Bengal         Nadia   Ranaghat     Other  1900  2100\n",
              "3  1      Rajasthan      Jhunjunu  Nawalgarh  1st Sort  2690  2710\n",
              "4  6        Haryana        Hissar   Narnaund     Other  1200  1400"
            ]
          },
          "metadata": {
            "tags": []
          },
          "execution_count": 47
        }
      ]
    },
    {
      "cell_type": "code",
      "metadata": {
        "colab": {
          "base_uri": "https://localhost:8080/",
          "height": 393
        },
        "id": "0kluHtD74vXo",
        "outputId": "b2c21bb0-14c3-4ba3-93f0-25844b29ad34"
      },
      "source": [
        "from sklearn.compose import ColumnTransformer\n",
        "from sklearn.preprocessing import OneHotEncoder\n",
        "\n",
        "ct = ColumnTransformer(transformers=[('encoder', OneHotEncoder(drop='first'), [1,2,3,4,5])],remainder='passthrough')\n",
        "r_train = ct.fit_transform(X_train)\n",
        "r_test = ct.transform(X_test)\n",
        "\n",
        "#ct = ColumnTransformer(transformers=[('encoder', OneHotEncoder(drop='first'), ['state', 'district', 'market', 'variety'])],remainder='passthrough')\n",
        "\n",
        "#ct = ColumnTransformer(transformers=[('encoder', OneHotEncoder(drop='first'), list(range(6)))],remainder='passthrough')\n",
        "#ct.fit(X)\n",
        "#ct.transform()\n",
        "#ct.transform()"
      ],
      "execution_count": 48,
      "outputs": [
        {
          "output_type": "error",
          "ename": "ValueError",
          "evalue": "ignored",
          "traceback": [
            "\u001b[0;31m---------------------------------------------------------------------------\u001b[0m",
            "\u001b[0;31mValueError\u001b[0m                                Traceback (most recent call last)",
            "\u001b[0;32m<ipython-input-48-411efe13e76e>\u001b[0m in \u001b[0;36m<module>\u001b[0;34m()\u001b[0m\n\u001b[1;32m      4\u001b[0m \u001b[0mct\u001b[0m \u001b[0;34m=\u001b[0m \u001b[0mColumnTransformer\u001b[0m\u001b[0;34m(\u001b[0m\u001b[0mtransformers\u001b[0m\u001b[0;34m=\u001b[0m\u001b[0;34m[\u001b[0m\u001b[0;34m(\u001b[0m\u001b[0;34m'encoder'\u001b[0m\u001b[0;34m,\u001b[0m \u001b[0mOneHotEncoder\u001b[0m\u001b[0;34m(\u001b[0m\u001b[0mdrop\u001b[0m\u001b[0;34m=\u001b[0m\u001b[0;34m'first'\u001b[0m\u001b[0;34m)\u001b[0m\u001b[0;34m,\u001b[0m \u001b[0;34m[\u001b[0m\u001b[0;36m1\u001b[0m\u001b[0;34m,\u001b[0m\u001b[0;36m2\u001b[0m\u001b[0;34m,\u001b[0m\u001b[0;36m3\u001b[0m\u001b[0;34m,\u001b[0m\u001b[0;36m4\u001b[0m\u001b[0;34m,\u001b[0m\u001b[0;36m5\u001b[0m\u001b[0;34m]\u001b[0m\u001b[0;34m)\u001b[0m\u001b[0;34m]\u001b[0m\u001b[0;34m,\u001b[0m\u001b[0mremainder\u001b[0m\u001b[0;34m=\u001b[0m\u001b[0;34m'passthrough'\u001b[0m\u001b[0;34m)\u001b[0m\u001b[0;34m\u001b[0m\u001b[0;34m\u001b[0m\u001b[0m\n\u001b[1;32m      5\u001b[0m \u001b[0mr_train\u001b[0m \u001b[0;34m=\u001b[0m \u001b[0mct\u001b[0m\u001b[0;34m.\u001b[0m\u001b[0mfit_transform\u001b[0m\u001b[0;34m(\u001b[0m\u001b[0mX_train\u001b[0m\u001b[0;34m)\u001b[0m\u001b[0;34m\u001b[0m\u001b[0;34m\u001b[0m\u001b[0m\n\u001b[0;32m----> 6\u001b[0;31m \u001b[0mr_test\u001b[0m \u001b[0;34m=\u001b[0m \u001b[0mct\u001b[0m\u001b[0;34m.\u001b[0m\u001b[0mtransform\u001b[0m\u001b[0;34m(\u001b[0m\u001b[0mX_test\u001b[0m\u001b[0;34m)\u001b[0m\u001b[0;34m\u001b[0m\u001b[0;34m\u001b[0m\u001b[0m\n\u001b[0m\u001b[1;32m      7\u001b[0m \u001b[0;34m\u001b[0m\u001b[0m\n\u001b[1;32m      8\u001b[0m \u001b[0;31m#ct = ColumnTransformer(transformers=[('encoder', OneHotEncoder(drop='first'), ['state', 'district', 'market', 'variety'])],remainder='passthrough')\u001b[0m\u001b[0;34m\u001b[0m\u001b[0;34m\u001b[0m\u001b[0;34m\u001b[0m\u001b[0m\n",
            "\u001b[0;32m/usr/local/lib/python3.6/dist-packages/sklearn/compose/_column_transformer.py\u001b[0m in \u001b[0;36mtransform\u001b[0;34m(self, X)\u001b[0m\n\u001b[1;32m    586\u001b[0m \u001b[0;34m\u001b[0m\u001b[0m\n\u001b[1;32m    587\u001b[0m         \u001b[0mself\u001b[0m\u001b[0;34m.\u001b[0m\u001b[0m_validate_features\u001b[0m\u001b[0;34m(\u001b[0m\u001b[0mX\u001b[0m\u001b[0;34m.\u001b[0m\u001b[0mshape\u001b[0m\u001b[0;34m[\u001b[0m\u001b[0;36m1\u001b[0m\u001b[0;34m]\u001b[0m\u001b[0;34m,\u001b[0m \u001b[0mX_feature_names\u001b[0m\u001b[0;34m)\u001b[0m\u001b[0;34m\u001b[0m\u001b[0;34m\u001b[0m\u001b[0m\n\u001b[0;32m--> 588\u001b[0;31m         \u001b[0mXs\u001b[0m \u001b[0;34m=\u001b[0m \u001b[0mself\u001b[0m\u001b[0;34m.\u001b[0m\u001b[0m_fit_transform\u001b[0m\u001b[0;34m(\u001b[0m\u001b[0mX\u001b[0m\u001b[0;34m,\u001b[0m \u001b[0;32mNone\u001b[0m\u001b[0;34m,\u001b[0m \u001b[0m_transform_one\u001b[0m\u001b[0;34m,\u001b[0m \u001b[0mfitted\u001b[0m\u001b[0;34m=\u001b[0m\u001b[0;32mTrue\u001b[0m\u001b[0;34m)\u001b[0m\u001b[0;34m\u001b[0m\u001b[0;34m\u001b[0m\u001b[0m\n\u001b[0m\u001b[1;32m    589\u001b[0m         \u001b[0mself\u001b[0m\u001b[0;34m.\u001b[0m\u001b[0m_validate_output\u001b[0m\u001b[0;34m(\u001b[0m\u001b[0mXs\u001b[0m\u001b[0;34m)\u001b[0m\u001b[0;34m\u001b[0m\u001b[0;34m\u001b[0m\u001b[0m\n\u001b[1;32m    590\u001b[0m \u001b[0;34m\u001b[0m\u001b[0m\n",
            "\u001b[0;32m/usr/local/lib/python3.6/dist-packages/sklearn/compose/_column_transformer.py\u001b[0m in \u001b[0;36m_fit_transform\u001b[0;34m(self, X, y, func, fitted)\u001b[0m\n\u001b[1;32m    455\u001b[0m                     message=self._log_message(name, idx, len(transformers)))\n\u001b[1;32m    456\u001b[0m                 for idx, (name, trans, column, weight) in enumerate(\n\u001b[0;32m--> 457\u001b[0;31m                         self._iter(fitted=fitted, replace_strings=True), 1))\n\u001b[0m\u001b[1;32m    458\u001b[0m         \u001b[0;32mexcept\u001b[0m \u001b[0mValueError\u001b[0m \u001b[0;32mas\u001b[0m \u001b[0me\u001b[0m\u001b[0;34m:\u001b[0m\u001b[0;34m\u001b[0m\u001b[0;34m\u001b[0m\u001b[0m\n\u001b[1;32m    459\u001b[0m             \u001b[0;32mif\u001b[0m \u001b[0;34m\"Expected 2D array, got 1D array instead\"\u001b[0m \u001b[0;32min\u001b[0m \u001b[0mstr\u001b[0m\u001b[0;34m(\u001b[0m\u001b[0me\u001b[0m\u001b[0;34m)\u001b[0m\u001b[0;34m:\u001b[0m\u001b[0;34m\u001b[0m\u001b[0;34m\u001b[0m\u001b[0m\n",
            "\u001b[0;32m/usr/local/lib/python3.6/dist-packages/joblib/parallel.py\u001b[0m in \u001b[0;36m__call__\u001b[0;34m(self, iterable)\u001b[0m\n\u001b[1;32m   1039\u001b[0m             \u001b[0;31m# remaining jobs.\u001b[0m\u001b[0;34m\u001b[0m\u001b[0;34m\u001b[0m\u001b[0;34m\u001b[0m\u001b[0m\n\u001b[1;32m   1040\u001b[0m             \u001b[0mself\u001b[0m\u001b[0;34m.\u001b[0m\u001b[0m_iterating\u001b[0m \u001b[0;34m=\u001b[0m \u001b[0;32mFalse\u001b[0m\u001b[0;34m\u001b[0m\u001b[0;34m\u001b[0m\u001b[0m\n\u001b[0;32m-> 1041\u001b[0;31m             \u001b[0;32mif\u001b[0m \u001b[0mself\u001b[0m\u001b[0;34m.\u001b[0m\u001b[0mdispatch_one_batch\u001b[0m\u001b[0;34m(\u001b[0m\u001b[0miterator\u001b[0m\u001b[0;34m)\u001b[0m\u001b[0;34m:\u001b[0m\u001b[0;34m\u001b[0m\u001b[0;34m\u001b[0m\u001b[0m\n\u001b[0m\u001b[1;32m   1042\u001b[0m                 \u001b[0mself\u001b[0m\u001b[0;34m.\u001b[0m\u001b[0m_iterating\u001b[0m \u001b[0;34m=\u001b[0m \u001b[0mself\u001b[0m\u001b[0;34m.\u001b[0m\u001b[0m_original_iterator\u001b[0m \u001b[0;32mis\u001b[0m \u001b[0;32mnot\u001b[0m \u001b[0;32mNone\u001b[0m\u001b[0;34m\u001b[0m\u001b[0;34m\u001b[0m\u001b[0m\n\u001b[1;32m   1043\u001b[0m \u001b[0;34m\u001b[0m\u001b[0m\n",
            "\u001b[0;32m/usr/local/lib/python3.6/dist-packages/joblib/parallel.py\u001b[0m in \u001b[0;36mdispatch_one_batch\u001b[0;34m(self, iterator)\u001b[0m\n\u001b[1;32m    857\u001b[0m                 \u001b[0;32mreturn\u001b[0m \u001b[0;32mFalse\u001b[0m\u001b[0;34m\u001b[0m\u001b[0;34m\u001b[0m\u001b[0m\n\u001b[1;32m    858\u001b[0m             \u001b[0;32melse\u001b[0m\u001b[0;34m:\u001b[0m\u001b[0;34m\u001b[0m\u001b[0;34m\u001b[0m\u001b[0m\n\u001b[0;32m--> 859\u001b[0;31m                 \u001b[0mself\u001b[0m\u001b[0;34m.\u001b[0m\u001b[0m_dispatch\u001b[0m\u001b[0;34m(\u001b[0m\u001b[0mtasks\u001b[0m\u001b[0;34m)\u001b[0m\u001b[0;34m\u001b[0m\u001b[0;34m\u001b[0m\u001b[0m\n\u001b[0m\u001b[1;32m    860\u001b[0m                 \u001b[0;32mreturn\u001b[0m \u001b[0;32mTrue\u001b[0m\u001b[0;34m\u001b[0m\u001b[0;34m\u001b[0m\u001b[0m\n\u001b[1;32m    861\u001b[0m \u001b[0;34m\u001b[0m\u001b[0m\n",
            "\u001b[0;32m/usr/local/lib/python3.6/dist-packages/joblib/parallel.py\u001b[0m in \u001b[0;36m_dispatch\u001b[0;34m(self, batch)\u001b[0m\n\u001b[1;32m    775\u001b[0m         \u001b[0;32mwith\u001b[0m \u001b[0mself\u001b[0m\u001b[0;34m.\u001b[0m\u001b[0m_lock\u001b[0m\u001b[0;34m:\u001b[0m\u001b[0;34m\u001b[0m\u001b[0;34m\u001b[0m\u001b[0m\n\u001b[1;32m    776\u001b[0m             \u001b[0mjob_idx\u001b[0m \u001b[0;34m=\u001b[0m \u001b[0mlen\u001b[0m\u001b[0;34m(\u001b[0m\u001b[0mself\u001b[0m\u001b[0;34m.\u001b[0m\u001b[0m_jobs\u001b[0m\u001b[0;34m)\u001b[0m\u001b[0;34m\u001b[0m\u001b[0;34m\u001b[0m\u001b[0m\n\u001b[0;32m--> 777\u001b[0;31m             \u001b[0mjob\u001b[0m \u001b[0;34m=\u001b[0m \u001b[0mself\u001b[0m\u001b[0;34m.\u001b[0m\u001b[0m_backend\u001b[0m\u001b[0;34m.\u001b[0m\u001b[0mapply_async\u001b[0m\u001b[0;34m(\u001b[0m\u001b[0mbatch\u001b[0m\u001b[0;34m,\u001b[0m \u001b[0mcallback\u001b[0m\u001b[0;34m=\u001b[0m\u001b[0mcb\u001b[0m\u001b[0;34m)\u001b[0m\u001b[0;34m\u001b[0m\u001b[0;34m\u001b[0m\u001b[0m\n\u001b[0m\u001b[1;32m    778\u001b[0m             \u001b[0;31m# A job can complete so quickly than its callback is\u001b[0m\u001b[0;34m\u001b[0m\u001b[0;34m\u001b[0m\u001b[0;34m\u001b[0m\u001b[0m\n\u001b[1;32m    779\u001b[0m             \u001b[0;31m# called before we get here, causing self._jobs to\u001b[0m\u001b[0;34m\u001b[0m\u001b[0;34m\u001b[0m\u001b[0;34m\u001b[0m\u001b[0m\n",
            "\u001b[0;32m/usr/local/lib/python3.6/dist-packages/joblib/_parallel_backends.py\u001b[0m in \u001b[0;36mapply_async\u001b[0;34m(self, func, callback)\u001b[0m\n\u001b[1;32m    206\u001b[0m     \u001b[0;32mdef\u001b[0m \u001b[0mapply_async\u001b[0m\u001b[0;34m(\u001b[0m\u001b[0mself\u001b[0m\u001b[0;34m,\u001b[0m \u001b[0mfunc\u001b[0m\u001b[0;34m,\u001b[0m \u001b[0mcallback\u001b[0m\u001b[0;34m=\u001b[0m\u001b[0;32mNone\u001b[0m\u001b[0;34m)\u001b[0m\u001b[0;34m:\u001b[0m\u001b[0;34m\u001b[0m\u001b[0;34m\u001b[0m\u001b[0m\n\u001b[1;32m    207\u001b[0m         \u001b[0;34m\"\"\"Schedule a func to be run\"\"\"\u001b[0m\u001b[0;34m\u001b[0m\u001b[0;34m\u001b[0m\u001b[0m\n\u001b[0;32m--> 208\u001b[0;31m         \u001b[0mresult\u001b[0m \u001b[0;34m=\u001b[0m \u001b[0mImmediateResult\u001b[0m\u001b[0;34m(\u001b[0m\u001b[0mfunc\u001b[0m\u001b[0;34m)\u001b[0m\u001b[0;34m\u001b[0m\u001b[0;34m\u001b[0m\u001b[0m\n\u001b[0m\u001b[1;32m    209\u001b[0m         \u001b[0;32mif\u001b[0m \u001b[0mcallback\u001b[0m\u001b[0;34m:\u001b[0m\u001b[0;34m\u001b[0m\u001b[0;34m\u001b[0m\u001b[0m\n\u001b[1;32m    210\u001b[0m             \u001b[0mcallback\u001b[0m\u001b[0;34m(\u001b[0m\u001b[0mresult\u001b[0m\u001b[0;34m)\u001b[0m\u001b[0;34m\u001b[0m\u001b[0;34m\u001b[0m\u001b[0m\n",
            "\u001b[0;32m/usr/local/lib/python3.6/dist-packages/joblib/_parallel_backends.py\u001b[0m in \u001b[0;36m__init__\u001b[0;34m(self, batch)\u001b[0m\n\u001b[1;32m    570\u001b[0m         \u001b[0;31m# Don't delay the application, to avoid keeping the input\u001b[0m\u001b[0;34m\u001b[0m\u001b[0;34m\u001b[0m\u001b[0;34m\u001b[0m\u001b[0m\n\u001b[1;32m    571\u001b[0m         \u001b[0;31m# arguments in memory\u001b[0m\u001b[0;34m\u001b[0m\u001b[0;34m\u001b[0m\u001b[0;34m\u001b[0m\u001b[0m\n\u001b[0;32m--> 572\u001b[0;31m         \u001b[0mself\u001b[0m\u001b[0;34m.\u001b[0m\u001b[0mresults\u001b[0m \u001b[0;34m=\u001b[0m \u001b[0mbatch\u001b[0m\u001b[0;34m(\u001b[0m\u001b[0;34m)\u001b[0m\u001b[0;34m\u001b[0m\u001b[0;34m\u001b[0m\u001b[0m\n\u001b[0m\u001b[1;32m    573\u001b[0m \u001b[0;34m\u001b[0m\u001b[0m\n\u001b[1;32m    574\u001b[0m     \u001b[0;32mdef\u001b[0m \u001b[0mget\u001b[0m\u001b[0;34m(\u001b[0m\u001b[0mself\u001b[0m\u001b[0;34m)\u001b[0m\u001b[0;34m:\u001b[0m\u001b[0;34m\u001b[0m\u001b[0;34m\u001b[0m\u001b[0m\n",
            "\u001b[0;32m/usr/local/lib/python3.6/dist-packages/joblib/parallel.py\u001b[0m in \u001b[0;36m__call__\u001b[0;34m(self)\u001b[0m\n\u001b[1;32m    261\u001b[0m         \u001b[0;32mwith\u001b[0m \u001b[0mparallel_backend\u001b[0m\u001b[0;34m(\u001b[0m\u001b[0mself\u001b[0m\u001b[0;34m.\u001b[0m\u001b[0m_backend\u001b[0m\u001b[0;34m,\u001b[0m \u001b[0mn_jobs\u001b[0m\u001b[0;34m=\u001b[0m\u001b[0mself\u001b[0m\u001b[0;34m.\u001b[0m\u001b[0m_n_jobs\u001b[0m\u001b[0;34m)\u001b[0m\u001b[0;34m:\u001b[0m\u001b[0;34m\u001b[0m\u001b[0;34m\u001b[0m\u001b[0m\n\u001b[1;32m    262\u001b[0m             return [func(*args, **kwargs)\n\u001b[0;32m--> 263\u001b[0;31m                     for func, args, kwargs in self.items]\n\u001b[0m\u001b[1;32m    264\u001b[0m \u001b[0;34m\u001b[0m\u001b[0m\n\u001b[1;32m    265\u001b[0m     \u001b[0;32mdef\u001b[0m \u001b[0m__reduce__\u001b[0m\u001b[0;34m(\u001b[0m\u001b[0mself\u001b[0m\u001b[0;34m)\u001b[0m\u001b[0;34m:\u001b[0m\u001b[0;34m\u001b[0m\u001b[0;34m\u001b[0m\u001b[0m\n",
            "\u001b[0;32m/usr/local/lib/python3.6/dist-packages/joblib/parallel.py\u001b[0m in \u001b[0;36m<listcomp>\u001b[0;34m(.0)\u001b[0m\n\u001b[1;32m    261\u001b[0m         \u001b[0;32mwith\u001b[0m \u001b[0mparallel_backend\u001b[0m\u001b[0;34m(\u001b[0m\u001b[0mself\u001b[0m\u001b[0;34m.\u001b[0m\u001b[0m_backend\u001b[0m\u001b[0;34m,\u001b[0m \u001b[0mn_jobs\u001b[0m\u001b[0;34m=\u001b[0m\u001b[0mself\u001b[0m\u001b[0;34m.\u001b[0m\u001b[0m_n_jobs\u001b[0m\u001b[0;34m)\u001b[0m\u001b[0;34m:\u001b[0m\u001b[0;34m\u001b[0m\u001b[0;34m\u001b[0m\u001b[0m\n\u001b[1;32m    262\u001b[0m             return [func(*args, **kwargs)\n\u001b[0;32m--> 263\u001b[0;31m                     for func, args, kwargs in self.items]\n\u001b[0m\u001b[1;32m    264\u001b[0m \u001b[0;34m\u001b[0m\u001b[0m\n\u001b[1;32m    265\u001b[0m     \u001b[0;32mdef\u001b[0m \u001b[0m__reduce__\u001b[0m\u001b[0;34m(\u001b[0m\u001b[0mself\u001b[0m\u001b[0;34m)\u001b[0m\u001b[0;34m:\u001b[0m\u001b[0;34m\u001b[0m\u001b[0;34m\u001b[0m\u001b[0m\n",
            "\u001b[0;32m/usr/local/lib/python3.6/dist-packages/sklearn/pipeline.py\u001b[0m in \u001b[0;36m_transform_one\u001b[0;34m(transformer, X, y, weight, **fit_params)\u001b[0m\n\u001b[1;32m    705\u001b[0m \u001b[0;34m\u001b[0m\u001b[0m\n\u001b[1;32m    706\u001b[0m \u001b[0;32mdef\u001b[0m \u001b[0m_transform_one\u001b[0m\u001b[0;34m(\u001b[0m\u001b[0mtransformer\u001b[0m\u001b[0;34m,\u001b[0m \u001b[0mX\u001b[0m\u001b[0;34m,\u001b[0m \u001b[0my\u001b[0m\u001b[0;34m,\u001b[0m \u001b[0mweight\u001b[0m\u001b[0;34m,\u001b[0m \u001b[0;34m**\u001b[0m\u001b[0mfit_params\u001b[0m\u001b[0;34m)\u001b[0m\u001b[0;34m:\u001b[0m\u001b[0;34m\u001b[0m\u001b[0;34m\u001b[0m\u001b[0m\n\u001b[0;32m--> 707\u001b[0;31m     \u001b[0mres\u001b[0m \u001b[0;34m=\u001b[0m \u001b[0mtransformer\u001b[0m\u001b[0;34m.\u001b[0m\u001b[0mtransform\u001b[0m\u001b[0;34m(\u001b[0m\u001b[0mX\u001b[0m\u001b[0;34m)\u001b[0m\u001b[0;34m\u001b[0m\u001b[0;34m\u001b[0m\u001b[0m\n\u001b[0m\u001b[1;32m    708\u001b[0m     \u001b[0;31m# if we have a weight for this transformer, multiply output\u001b[0m\u001b[0;34m\u001b[0m\u001b[0;34m\u001b[0m\u001b[0;34m\u001b[0m\u001b[0m\n\u001b[1;32m    709\u001b[0m     \u001b[0;32mif\u001b[0m \u001b[0mweight\u001b[0m \u001b[0;32mis\u001b[0m \u001b[0;32mNone\u001b[0m\u001b[0;34m:\u001b[0m\u001b[0;34m\u001b[0m\u001b[0;34m\u001b[0m\u001b[0m\n",
            "\u001b[0;32m/usr/local/lib/python3.6/dist-packages/sklearn/preprocessing/_encoders.py\u001b[0m in \u001b[0;36mtransform\u001b[0;34m(self, X)\u001b[0m\n\u001b[1;32m    388\u001b[0m         \u001b[0mcheck_is_fitted\u001b[0m\u001b[0;34m(\u001b[0m\u001b[0mself\u001b[0m\u001b[0;34m)\u001b[0m\u001b[0;34m\u001b[0m\u001b[0;34m\u001b[0m\u001b[0m\n\u001b[1;32m    389\u001b[0m         \u001b[0;31m# validation of X happens in _check_X called by _transform\u001b[0m\u001b[0;34m\u001b[0m\u001b[0;34m\u001b[0m\u001b[0;34m\u001b[0m\u001b[0m\n\u001b[0;32m--> 390\u001b[0;31m         \u001b[0mX_int\u001b[0m\u001b[0;34m,\u001b[0m \u001b[0mX_mask\u001b[0m \u001b[0;34m=\u001b[0m \u001b[0mself\u001b[0m\u001b[0;34m.\u001b[0m\u001b[0m_transform\u001b[0m\u001b[0;34m(\u001b[0m\u001b[0mX\u001b[0m\u001b[0;34m,\u001b[0m \u001b[0mhandle_unknown\u001b[0m\u001b[0;34m=\u001b[0m\u001b[0mself\u001b[0m\u001b[0;34m.\u001b[0m\u001b[0mhandle_unknown\u001b[0m\u001b[0;34m)\u001b[0m\u001b[0;34m\u001b[0m\u001b[0;34m\u001b[0m\u001b[0m\n\u001b[0m\u001b[1;32m    391\u001b[0m \u001b[0;34m\u001b[0m\u001b[0m\n\u001b[1;32m    392\u001b[0m         \u001b[0mn_samples\u001b[0m\u001b[0;34m,\u001b[0m \u001b[0mn_features\u001b[0m \u001b[0;34m=\u001b[0m \u001b[0mX_int\u001b[0m\u001b[0;34m.\u001b[0m\u001b[0mshape\u001b[0m\u001b[0;34m\u001b[0m\u001b[0;34m\u001b[0m\u001b[0m\n",
            "\u001b[0;32m/usr/local/lib/python3.6/dist-packages/sklearn/preprocessing/_encoders.py\u001b[0m in \u001b[0;36m_transform\u001b[0;34m(self, X, handle_unknown)\u001b[0m\n\u001b[1;32m    122\u001b[0m                     msg = (\"Found unknown categories {0} in column {1}\"\n\u001b[1;32m    123\u001b[0m                            \" during transform\".format(diff, i))\n\u001b[0;32m--> 124\u001b[0;31m                     \u001b[0;32mraise\u001b[0m \u001b[0mValueError\u001b[0m\u001b[0;34m(\u001b[0m\u001b[0mmsg\u001b[0m\u001b[0;34m)\u001b[0m\u001b[0;34m\u001b[0m\u001b[0;34m\u001b[0m\u001b[0m\n\u001b[0m\u001b[1;32m    125\u001b[0m                 \u001b[0;32melse\u001b[0m\u001b[0;34m:\u001b[0m\u001b[0;34m\u001b[0m\u001b[0;34m\u001b[0m\u001b[0m\n\u001b[1;32m    126\u001b[0m                     \u001b[0;31m# Set the problematic rows to an acceptable value and\u001b[0m\u001b[0;34m\u001b[0m\u001b[0;34m\u001b[0m\u001b[0;34m\u001b[0m\u001b[0m\n",
            "\u001b[0;31mValueError\u001b[0m: Found unknown categories ['Bidar'] in column 1 during transform"
          ]
        }
      ]
    },
    {
      "cell_type": "code",
      "metadata": {
        "id": "BSzNdC9IWmUe"
      },
      "source": [
        "#rom sklearn.compose import ColumnTransformer\n",
        "#from sklearn.preprocessing import OneHotEncoder\n",
        "#ct = ColumnTransformer(transformers=[('encoder', OneHotEncoder(drop='first'), ['state', 'district', 'market', 'variety'])],remainder='passthrough')\n",
        "#ct = ColumnTransformer(transformers=[('encoder', OneHotEncoder(drop='first'), [1,2,3,4,5])],remainder='passthrough')\n",
        "#ct = ColumnTransformer(transformers=[('encoder', OneHotEncoder(drop='first'), list(range(6)))],remainder='passthrough')\n",
        "#ct.fit(X)\n",
        "#ct.transform()\n",
        "#ct.transform()\n",
        "#from sklearn.preprocessing import OneHotEncoder\n",
        "\n",
        "#ohe = OneHotEncoder()\n",
        "#oheFit = ohe.fit(dataset['state'].values)\n",
        "\n",
        "#result_train = ct.fit_transform(X_train)\n",
        "#result_train = ct.fit_transform(X_train)"
      ],
      "execution_count": 43,
      "outputs": []
    },
    {
      "cell_type": "code",
      "metadata": {
        "id": "7SwZLsmELIz2"
      },
      "source": [
        ""
      ],
      "execution_count": 43,
      "outputs": []
    },
    {
      "cell_type": "code",
      "metadata": {
        "id": "0U2kberlZ1tg"
      },
      "source": [
        "#pd.DataFrame(result_train.toarray()).head()"
      ],
      "execution_count": 45,
      "outputs": []
    },
    {
      "cell_type": "code",
      "metadata": {
        "colab": {
          "base_uri": "https://localhost:8080/",
          "height": 171
        },
        "id": "5GduKm-teYnP",
        "outputId": "92d50917-1933-41a7-9c22-aa017ac627c5"
      },
      "source": [
        "ct.get_feature_names"
      ],
      "execution_count": 46,
      "outputs": [
        {
          "output_type": "error",
          "ename": "NameError",
          "evalue": "ignored",
          "traceback": [
            "\u001b[0;31m---------------------------------------------------------------------------\u001b[0m",
            "\u001b[0;31mNameError\u001b[0m                                 Traceback (most recent call last)",
            "\u001b[0;32m<ipython-input-46-bacb95159758>\u001b[0m in \u001b[0;36m<module>\u001b[0;34m()\u001b[0m\n\u001b[0;32m----> 1\u001b[0;31m \u001b[0mct\u001b[0m\u001b[0;34m.\u001b[0m\u001b[0mget_feature_names\u001b[0m\u001b[0;34m\u001b[0m\u001b[0;34m\u001b[0m\u001b[0m\n\u001b[0m",
            "\u001b[0;31mNameError\u001b[0m: name 'ct' is not defined"
          ]
        }
      ]
    },
    {
      "cell_type": "code",
      "metadata": {
        "id": "yb-aGQjyVmg_"
      },
      "source": [
        "trf2 = ColumnTransformer(transformers =[ \n",
        "    ('enc', OneHotEncoder(sparse = False, drop ='first'), list(range(3))), \n",
        "], remainder ='passthrough')\n",
        "\n",
        "preds = pipe.predict(X_test) \n",
        "\n",
        "# This is how the original test set insurance prices and \n",
        "# our predicted ones stack up \n",
        "\n",
        "pd.DataFrame({'original test set':y_test, 'predictions': preds}) \n",
        "\n",
        "pipe.fit(X_train, y_train) \n",
        "\n",
        "pipe = Pipeline(steps =[ \n",
        "\t('tf1', trf1), \n",
        "\t('tf2', trf2), \n",
        "\t('tf3', MinMaxScaler()), # or StandardScaler, or any other scaler \n",
        "\t('model', RandomForestRegressor(n_estimators = 200)), \n",
        "# or LinearRegression, SVR, DecisionTreeRegressor, etc \n",
        "]) \n",
        "\n"
      ],
      "execution_count": null,
      "outputs": []
    },
    {
      "cell_type": "code",
      "metadata": {
        "id": "VOhVM9k7MP_c"
      },
      "source": [
        "from sklearn.compose import ColumnTransformer\n",
        "from sklearn.preprocessing import OneHotEncoder\n",
        "ct = ColumnTransformer(transformers=[('encoder', OneHotEncoder(), [0, 1, 2, 3, 4, 5])],remainder='passthrough')\n",
        "X_train = np.array(ct.fit_transform(X_train))\n",
        "X_test = np.array(ct.fit_transform(X_train))\n",
        "\n",
        "\n"
      ],
      "execution_count": null,
      "outputs": []
    },
    {
      "cell_type": "code",
      "metadata": {
        "id": "HoR4LhitroMe"
      },
      "source": [
        "object_variables = dataset.select_dtypes(include=['object']).copy()"
      ],
      "execution_count": null,
      "outputs": []
    },
    {
      "cell_type": "code",
      "metadata": {
        "id": "za4jAehqr02h"
      },
      "source": [
        "object_variables.head()"
      ],
      "execution_count": null,
      "outputs": []
    },
    {
      "cell_type": "code",
      "metadata": {
        "id": "OD6POatIF9z0"
      },
      "source": [
        ""
      ],
      "execution_count": null,
      "outputs": []
    },
    {
      "cell_type": "code",
      "metadata": {
        "id": "A_VR8Nqkwtsm"
      },
      "source": [
        "#if the categorical column is true number, but has text as number. Like two for 2, then approach below would be ideal\n",
        "\n",
        "#cleanup_numerical_categories = {'column-name1': {'four': 4, 'two': 2},\n",
        "#                'column-name2': {'four': 4, 'six': 6, 'five': 5, 'eight': 8}\n",
        "#                }\n",
        "#object_variables = object_variables.replace(cleanup_numerical_categories)"
      ],
      "execution_count": null,
      "outputs": []
    },
    {
      "cell_type": "code",
      "metadata": {
        "id": "uBq92yUvxlQH"
      },
      "source": [
        "#if the categorical column is true categorical column (not ordinal?)\n",
        "\n",
        "#object_variables['column-name'] = object_variables['column-name'].astype('category')\n",
        "#object_variables.dtypes\n",
        "#object_variables['column-name'] = object_variables['column-name'].cat.codes"
      ],
      "execution_count": null,
      "outputs": []
    },
    {
      "cell_type": "code",
      "metadata": {
        "id": "nm9PF9-7yWBZ"
      },
      "source": [
        "pd.get_dummies(object_variables, columns=object_variables.columns).head()"
      ],
      "execution_count": null,
      "outputs": []
    },
    {
      "cell_type": "code",
      "metadata": {
        "id": "LFGYbr86IGUj"
      },
      "source": [
        "from sklearn.preprocessing import OneHotEncoder\n",
        "\n",
        "oe_style = OneHotEncoder()\n",
        "oe_results = oe_style.fit_transform(object_variables)"
      ],
      "execution_count": null,
      "outputs": []
    },
    {
      "cell_type": "code",
      "metadata": {
        "id": "5D76zKn4IYrW"
      },
      "source": [
        "oe_results.toarray()"
      ],
      "execution_count": null,
      "outputs": []
    },
    {
      "cell_type": "code",
      "metadata": {
        "id": "sXk6_MyV6m8V"
      },
      "source": [
        "X = dataset.iloc[:, :-1].values\n",
        "y = dataset.iloc[:, -1].values"
      ],
      "execution_count": null,
      "outputs": []
    },
    {
      "cell_type": "code",
      "metadata": {
        "id": "pgRICPSMzd1X"
      },
      "source": [
        "#binary encoding\n",
        "#obj_df[\"OHC_Code\"] = np.where(obj_df[\"engine_type\"].str.contains(\"ohc\"), 1, 0)"
      ],
      "execution_count": null,
      "outputs": []
    },
    {
      "cell_type": "code",
      "metadata": {
        "id": "fr9m6UH5zneU"
      },
      "source": [
        "#sklearn options - OrdinalEncoder, OneHotEncoder\n",
        "from sklearn.preprocessing import OrdinalEncoder\n",
        "\n",
        "ord_enc = OrdinalEncoder()\n",
        "obj_df[\"make_code\"] = ord_enc.fit_transform(obj_df[[\"make\"]])\n",
        "obj_df[[\"make\", \"make_code\"]].head(11)\n",
        "\n",
        "from sklearn.preprocessing import OneHotEncoder\n",
        "\n",
        "oe_style = OneHotEncoder()\n",
        "oe_results = oe_style.fit_transform(obj_df[[\"body_style\"]])\n",
        "pd.DataFrame(oe_results.toarray(), columns=lb_style.categories_).head()\n",
        "\n",
        "obj_df = obj_df.join(pd.DataFrame(oe_results.toarray(), columns=oe_style.categories_))\n",
        "\n",
        "from sklearn.compose import make_column_transformer\n",
        "from sklearn.linear_model import LinearRegression\n",
        "from sklearn.pipeline import make_pipeline\n",
        "from sklearn.model_selection import cross_val_score\n",
        "\n",
        "# for the purposes of this analysis, only use a small subset of features\n",
        "\n",
        "feature_cols = [\n",
        "    'fuel_type', 'make', 'aspiration', 'highway_mpg', 'city_mpg',\n",
        "    'curb_weight', 'drive_wheels'\n",
        "]\n",
        "column_trans = make_column_transformer((OneHotEncoder(handle_unknown='ignore'),\n",
        "                                        ['fuel_type', 'make', 'drive_wheels']),\n",
        "                                      (OrdinalEncoder(), ['aspiration']),\n",
        "                                      remainder='passthrough')"
      ],
      "execution_count": null,
      "outputs": []
    },
    {
      "cell_type": "markdown",
      "metadata": {
        "id": "AhSpdQWeSsFh"
      },
      "source": [
        "### Encoding the Independent Variable"
      ]
    },
    {
      "cell_type": "code",
      "metadata": {
        "id": "FwlNDg-IsPjI"
      },
      "source": [
        "from sklearn.compose import ColumnTransformer\n",
        "from sklearn.preprocessing import OneHotEncoder\n",
        "ct = ColumnTransformer(transformers=[('encoder', OneHotEncoder(), [0])],remainder='passthrough')\n",
        "#A = ct.fit_transform(X)\n",
        "X = np.array(ct.fit_transform(X))"
      ],
      "execution_count": null,
      "outputs": []
    },
    {
      "cell_type": "code",
      "metadata": {
        "id": "98e5xOg0yOfO"
      },
      "source": [
        "print(X)"
      ],
      "execution_count": null,
      "outputs": []
    },
    {
      "cell_type": "markdown",
      "metadata": {
        "id": "DXh8oVSITIc6"
      },
      "source": [
        "### Encoding the Dependent Variable"
      ]
    },
    {
      "cell_type": "code",
      "metadata": {
        "id": "Ih1Khme5yXrv"
      },
      "source": [
        "from sklearn.preprocessing import LabelEncoder\n",
        "le = LabelEncoder()\n",
        "y = le.fit_transform(y)"
      ],
      "execution_count": null,
      "outputs": []
    },
    {
      "cell_type": "code",
      "metadata": {
        "id": "mkhBwX52y0L3"
      },
      "source": [
        "print(y)"
      ],
      "execution_count": null,
      "outputs": []
    },
    {
      "cell_type": "markdown",
      "metadata": {
        "id": "TpGqbS4TqkIR"
      },
      "source": [
        "## Feature Scaling"
      ]
    },
    {
      "cell_type": "code",
      "metadata": {
        "id": "Z9ObpiqqDubl"
      },
      "source": [
        "from sklearn.preprocessing import StandardScaler\n",
        "sc = StandardScaler()\n",
        "X_train[:, 3:] = sc.fit_transform(X_train[:, 3:])\n",
        "X_test[:, 3:] = sc.transform(X_test[:, 3:])"
      ],
      "execution_count": null,
      "outputs": []
    },
    {
      "cell_type": "code",
      "metadata": {
        "id": "Xu01jeCmGP-I"
      },
      "source": [
        "print(X_train)"
      ],
      "execution_count": null,
      "outputs": []
    },
    {
      "cell_type": "code",
      "metadata": {
        "id": "l5_NrVBiGrXD"
      },
      "source": [
        "print(X_test)"
      ],
      "execution_count": null,
      "outputs": []
    }
  ]
}